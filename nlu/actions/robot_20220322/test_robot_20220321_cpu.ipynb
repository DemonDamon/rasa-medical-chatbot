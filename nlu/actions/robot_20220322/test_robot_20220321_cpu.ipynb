{
 "cells": [
  {
   "cell_type": "code",
   "execution_count": 1,
   "metadata": {},
   "outputs": [],
   "source": [
    "import pandas as pd\n",
    "import random\n",
    "from tqdm import tqdm\n",
    "import matplotlib.pyplot as plt\n",
    "%matplotlib inline\n",
    "\n",
    "import requests\n",
    "import json\n",
    "\n",
    "from robot_20220306_cpu_backup import Robot"
   ]
  },
  {
   "cell_type": "code",
   "execution_count": 2,
   "metadata": {},
   "outputs": [
    {
     "name": "stdout",
     "output_type": "stream",
     "text": [
      "start to load data\n",
      "finish loading data\n",
      "start to load models\n",
      "finish loading translation model\n",
      "finish loading decisionMakingNet\n",
      "finish loading suggestionNet\n",
      "finish loading diagnoseNet\n"
     ]
    },
    {
     "name": "stderr",
     "output_type": "stream",
     "text": [
      "D:\\anaconda3\\lib\\site-packages\\IPython\\core\\interactiveshell.py:3357: DtypeWarning: Columns (6) have mixed types.Specify dtype option on import or set low_memory=False.\n",
      "  if (await self.run_code(code, result,  async_=asy)):\n"
     ]
    }
   ],
   "source": [
    "robot = Robot()"
   ]
  },
  {
   "cell_type": "code",
   "execution_count": 4,
   "metadata": {},
   "outputs": [
    {
     "name": "stdin",
     "output_type": "stream",
     "text": [
      "欢迎使用robot doctor, 请问您觉得哪里不舒服? 腹部不适\n"
     ]
    },
    {
     "name": "stderr",
     "output_type": "stream",
     "text": [
      "D:\\workfiles\\codes\\rasa\\task-oriented-dialogue-system-for-smart-follow-up\\nlu\\actions\\robot_20220322\\robot_20220306_cpu_backup.py:576: UserWarning: Creating a tensor from a list of numpy.ndarrays is extremely slow. Please consider converting the list to a single numpy.ndarray with numpy.array() before converting to a tensor. (Triggered internally at  C:\\actions-runner\\_work\\pytorch\\pytorch\\builder\\windows\\pytorch\\torch\\csrc\\utils\\tensor_new.cpp:210.)\n",
      "  return torch.tensor(x, dtype=torch.float)\n"
     ]
    },
    {
     "name": "stdout",
     "output_type": "stream",
     "text": [
      "asking this node:129\n"
     ]
    },
    {
     "name": "stdin",
     "output_type": "stream",
     "text": [
      "消化不良? y\n"
     ]
    },
    {
     "name": "stdout",
     "output_type": "stream",
     "text": [
      "asking this node:9\n"
     ]
    },
    {
     "name": "stdin",
     "output_type": "stream",
     "text": [
      "腹泻? y\n"
     ]
    },
    {
     "name": "stdout",
     "output_type": "stream",
     "text": [
      "asking this node:45\n"
     ]
    },
    {
     "name": "stdin",
     "output_type": "stream",
     "text": [
      "腹痛? n\n"
     ]
    },
    {
     "name": "stdout",
     "output_type": "stream",
     "text": [
      "asking this node:192\n"
     ]
    },
    {
     "name": "stdin",
     "output_type": "stream",
     "text": [
      "厌食? n\n"
     ]
    },
    {
     "name": "stdout",
     "output_type": "stream",
     "text": [
      "asking this node:362\n"
     ]
    },
    {
     "name": "stdin",
     "output_type": "stream",
     "text": [
      "嗳气? n\n"
     ]
    },
    {
     "name": "stdout",
     "output_type": "stream",
     "text": [
      "asking this node:14\n"
     ]
    },
    {
     "name": "stdin",
     "output_type": "stream",
     "text": [
      "恶心? y\n"
     ]
    },
    {
     "name": "stdout",
     "output_type": "stream",
     "text": [
      "经过思考作出以下诊断:\n",
      "(['劳力性心绞痛', '慢性胃炎', '慢性扁桃体炎', '慢性胆囊炎', '慢性鼻咽炎', '疱疹样湿疹', '肺炎克雷白杆菌肺炎', '胃溃疡', '小儿丘疹性肢皮炎综合征', '慢性阿米巴性痢疾'], (0.49757360591173055, 0.21811318055294696, 0.13260086196361753, 0.0217745483963391, 0.020033828311428636, 0.015332332641826934, 0.014257727710909133, 0.011509495157993169, 0.009878671943578863, 0.007486562152634201))\n",
      "推荐科室:\n",
      "('皮肤科', '消化科', '感染科', '呼吸内科', '耳鼻喉科', '耳鼻喉-头颈外科', '泌尿外科', '心内科')\n"
     ]
    }
   ],
   "source": [
    "quit = False\n",
    "#robot initialize\n",
    "robot.reset()\n",
    "action = input('欢迎使用robot doctor, 请问您觉得哪里不舒服?')\n",
    "symptom = action.strip()\n",
    "\n",
    "# input the dirst symptom\n",
    "robot.input_sid((robot.cname2id[symptom])) # there is no relations\n",
    "if robot.is_enough():\n",
    "    #inference\n",
    "    print(robot.inference_disease_with_probs())\n",
    "else:\n",
    "    while not quit:\n",
    "        #10 symptoms loop\n",
    "        suggestions, probs = robot.suggestion(10)\n",
    "        \n",
    "        for suggestion in suggestions:\n",
    "            #suggestion_id = robot.index2suggestion_id[suggestion]\n",
    "            suggestion_name = robot.id2cname[suggestion]\n",
    "            question = suggestion_name + '?'\n",
    "            node_id = suggestion\n",
    "\n",
    "            #ask question\n",
    "            #print(question)\n",
    "            if node_id in robot.wrong_set:\n",
    "                action = 'n'\n",
    "                print('has answered before, answer is:{}'.format(action))\n",
    "            elif node_id in robot.selected_set:\n",
    "                action = 'y'\n",
    "                print('has answered before, answer is:{}'.format(action))\n",
    "            else:\n",
    "                print('asking this node:{}'.format(node_id))\n",
    "                action = input(question)\n",
    "            if action.strip() == 'y':\n",
    "                robot.input_sid((node_id))\n",
    "                quit = robot.is_enough()\n",
    "#                 print(robot.inference_disease_with_probs())\n",
    "                break\n",
    "            else:\n",
    "                robot.update_wrong_sid([node_id])\n",
    "                quit = robot.is_enough()\n",
    "#                 print(robot.inference_disease_with_probs())\n",
    "                if quit:\n",
    "                    break\n",
    "            continue\n",
    "                \n",
    "    #infer disease\n",
    "    print('经过思考作出以下诊断:')\n",
    "    print(robot.inference_disease_with_probs())\n",
    "    print('推荐科室:')\n",
    "    print(robot.recommend_departments())"
   ]
  },
  {
   "cell_type": "code",
   "execution_count": 4,
   "metadata": {},
   "outputs": [
    {
     "data": {
      "text/plain": [
       "['头痛', '乏力', '畏寒', '抽搐', '浑身酸痛', '高热', '咽喉痛']"
      ]
     },
     "execution_count": 4,
     "metadata": {},
     "output_type": "execute_result"
    }
   ],
   "source": [
    "symptom_entity_list = [robot.id2entity[i] for i in robot.selected_index]\n",
    "[robot.diagnose_net.eentity2ename[_item] for _item in symptom_entity_list]"
   ]
  }
 ],
 "metadata": {
  "anaconda-cloud": {},
  "kernelspec": {
   "display_name": "Python 3",
   "language": "python",
   "name": "python3"
  },
  "language_info": {
   "codemirror_mode": {
    "name": "ipython",
    "version": 3
   },
   "file_extension": ".py",
   "mimetype": "text/x-python",
   "name": "python",
   "nbconvert_exporter": "python",
   "pygments_lexer": "ipython3",
   "version": "3.7.6"
  }
 },
 "nbformat": 4,
 "nbformat_minor": 4
}
